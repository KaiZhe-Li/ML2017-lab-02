{
 "cells": [
  {
   "cell_type": "code",
   "execution_count": 1,
   "metadata": {},
   "outputs": [
    {
     "name": "stderr",
     "output_type": "stream",
     "text": [
      "C:\\Users\\lkz\\Anaconda3\\lib\\site-packages\\sklearn\\cross_validation.py:41: DeprecationWarning: This module was deprecated in version 0.18 in favor of the model_selection module into which all the refactored classes and functions are moved. Also note that the interface of the new CV iterators are different from that of this module. This module will be removed in 0.20.\n",
      "  \"This module will be removed in 0.20.\", DeprecationWarning)\n"
     ]
    }
   ],
   "source": [
    "from numpy import *\n",
    "import matplotlib.pyplot as plt\n",
    "from sklearn.datasets import load_svmlight_file\n",
    "import numpy as np\n",
    "from sklearn.cross_validation import train_test_split\n",
    "\n",
    "t_X,t_y=load_svmlight_file('a9a.t') #读取数据\n",
    "X_train,X_test, y_train, y_test =train_test_split(t_X,t_y,test_size=0.2, random_state=1)#分割数据"
   ]
  },
  {
   "cell_type": "code",
   "execution_count": 2,
   "metadata": {
    "collapsed": true
   },
   "outputs": [],
   "source": [
    "def fit( x, y, c=1, lr=0.01, batch_size=128,epoch=200):  #训练svm\n",
    "    batch_size = min(batch_size, len(y))\n",
    "    w = np.zeros(x.shape[1])\n",
    "    b = 0.\n",
    "    w,b=MBGD(x,y,batch_size,epoch,lr,c,w,b)\n",
    "    #w,b=RMSProp(x,y,batch_size,epoch,lr,c,w,b)\n",
    "    #w,b=AdamDelta(x,y,batch_size,epoch,lr,c,w,b)\n",
    "    #w,b=Adam(x,y,batch_size,epoch,lr,c,w,b)\n",
    "    return w,b"
   ]
  },
  {
   "cell_type": "code",
   "execution_count": 3,
   "metadata": {
    "collapsed": true
   },
   "outputs": [],
   "source": [
    "def predict( x,w,b, raw=False):  #预测种类\n",
    "    y_pred = x.dot(w) + b\n",
    "    if raw:\n",
    "        return y_pred\n",
    "    return np.sign(y_pred).astype(np.float32)"
   ]
  },
  {
   "cell_type": "code",
   "execution_count": 4,
   "metadata": {
    "collapsed": true
   },
   "outputs": [],
   "source": [
    "def MBGD(x,y,batch_size,epoch,lr,c,w,b):\n",
    "    for _ in range(epoch):\n",
    "        w *= 1 - lr\n",
    "        batch = np.random.choice(x.shape[0], batch_size)\n",
    "        x_batch, y_batch = x[batch], y[batch]\n",
    "        err = 1 - y_batch * predict(x_batch, w, b, True)\n",
    "        if np.max(err) <= 0:\n",
    "            continue\n",
    "        mask = err > 0\n",
    "        delta = lr * c * y_batch[mask]\n",
    "        w += np.mean(delta[..., None].transpose() * x_batch[mask], axis=0)\n",
    "        b += np.mean(delta)\n",
    "    return w,b"
   ]
  },
  {
   "cell_type": "code",
   "execution_count": 5,
   "metadata": {
    "collapsed": true
   },
   "outputs": [],
   "source": [
    "def RMSProp(x,y,batch_size,epoch,lr,c,w,b):\n",
    "    yita=0.9\n",
    "    G = zeros((x.shape[1], 1))\n",
    "    for _ in range(epoch):\n",
    "        w *= 1 - lr\n",
    "        batch = np.random.choice(x.shape[0], batch_size)\n",
    "        x_batch, y_batch = x[batch], y[batch]\n",
    "        err = 1 - y_batch * predict(x_batch, w, b, True)\n",
    "        if np.max(err) <= 0:\n",
    "            continue\n",
    "        mask = err > 0\n",
    "        delta = lr * c * y_batch[mask]\n",
    "        g =delta[..., None].transpose() * x_batch[mask]\n",
    "        G = yita * G +(1-yita)*multiply(g,g)\n",
    "        w +=np.mean(multiply(1/np.sqrt(G+1e-8),g),axis=0)\n",
    "        b += np.mean(delta)\n",
    "    return w,b"
   ]
  },
  {
   "cell_type": "code",
   "execution_count": 6,
   "metadata": {
    "collapsed": true
   },
   "outputs": [],
   "source": [
    "def AdamDelta(x,y,batch_size,epoch,lr,c,w,b):\n",
    "    yita=0.99\n",
    "    Gt = zeros((x.shape[1], 1))\n",
    "    deltat = zeros((x.shape[1], 1))\n",
    "    for _ in range(epoch):\n",
    "        w *= 1 - lr\n",
    "        batch = np.random.choice(x.shape[0], batch_size)\n",
    "        x_batch, y_batch = x[batch], y[batch]\n",
    "        err = 1 - y_batch * predict(x_batch, w, b, True)\n",
    "        if np.max(err) <= 0:\n",
    "            continue\n",
    "        mask = err > 0\n",
    "        delta =  c * y_batch[mask]\n",
    "        g = delta[..., None].transpose() * x_batch[mask]\n",
    "        Gt = Gt + (1 - yita) * multiply(g, g)\n",
    "        deltaWeight = np.mean(-multiply((np.sqrt(deltat + 1e-6) / np.sqrt(Gt + 1e-6)), g),axis=0)\n",
    "        deltat = yita * deltat + (1 - yita) * multiply(deltaWeight, deltaWeight)\n",
    "        w +=deltaWeight\n",
    "        b += np.mean(delta)\n",
    "    return w,b"
   ]
  },
  {
   "cell_type": "code",
   "execution_count": 7,
   "metadata": {
    "collapsed": true
   },
   "outputs": [],
   "source": [
    "def Adam(x,y,batch_size,epoch,lr,c,w,b):\n",
    "    beta1=0.9\n",
    "    beta=0.9\n",
    "    yita=0.999\n",
    "    mt = zeros((x.shape[1], 1))\n",
    "    Gt = zeros((x.shape[1], 1))\n",
    "    for t in range(epoch):\n",
    "        w *= 1 - lr\n",
    "        batch = np.random.choice(x.shape[0], batch_size)\n",
    "        x_batch, y_batch = x[batch], y[batch]\n",
    "        err = 1 - y_batch * predict(x_batch, w, b, True)\n",
    "        if np.max(err) <= 0:\n",
    "            continue\n",
    "        mask = err > 0\n",
    "        delta = c * y_batch[mask]\n",
    "        g = delta[..., None].transpose() * x_batch[mask]\n",
    "        mt = beta * mt + (1 - beta) * g\n",
    "        Gt = Gt + (1 - yita) * multiply(g, g)\n",
    "        alpha = lr * math.sqrt(1 - yita ** t) / (1 - beta1 ** (t + 1))\n",
    "        w += np.mean( alpha * mt / np.sqrt(Gt + 1e-8), axis=0)\n",
    "        b += np.mean(delta)\n",
    "    return w,b"
   ]
  },
  {
   "cell_type": "code",
   "execution_count": 8,
   "metadata": {},
   "outputs": [
    {
     "name": "stdout",
     "output_type": "stream",
     "text": [
      "准确率： 80.8413 %\n"
     ]
    }
   ],
   "source": [
    "w,b=fit(X_train,y_train)\n",
    "\n",
    "print(\"准确率：{:8.6} %\".format((predict(X_test,w,b) == y_test).mean() * 100))"
   ]
  }
 ],
 "metadata": {
  "kernelspec": {
   "display_name": "Python 3",
   "language": "python",
   "name": "python3"
  },
  "language_info": {
   "codemirror_mode": {
    "name": "ipython",
    "version": 3
   },
   "file_extension": ".py",
   "mimetype": "text/x-python",
   "name": "python",
   "nbconvert_exporter": "python",
   "pygments_lexer": "ipython3",
   "version": "3.6.1"
  }
 },
 "nbformat": 4,
 "nbformat_minor": 2
}
